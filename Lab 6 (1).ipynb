{
 "cells": [
  {
   "cell_type": "code",
   "execution_count": 5,
   "id": "d8f98c0a",
   "metadata": {},
   "outputs": [],
   "source": [
    "import pandas as pd\n",
    "from sklearn.metrics.pairwise import euclidean_distances"
   ]
  },
  {
   "cell_type": "code",
   "execution_count": 10,
   "id": "48606e22",
   "metadata": {},
   "outputs": [],
   "source": [
    "# Load the data from the CSV file\n",
    "data = pd.read_csv('Lab_6_Data.csv')\n",
    "\n",
    "# Set Fisk University as the reference institution\n",
    "fisk_university = data[data['Institution Name'] == 'Fisk University']\n",
    "\n",
    "# Define the features to consider for comparison\n",
    "features = ['Graduation rate  total cohort (DRVGR2021)', 'Full-time retention rate  2021 (EF2021D)', 'Student-to-faculty ratio (EF2021D)']\n",
    "\n",
    "# Calculate the Euclidean distance between Fisk University and other institutions\n",
    "data['Similarity'] = euclidean_distances(fisk_university[features], data[features])[0]\n",
    "\n",
    "# Define thresholds for categorization\n",
    "peer_threshold = 500  # Adjust based on your data\n",
    "below_threshold = 1000  # Adjust based on your data\n",
    "\n",
    "# Categorize institutions\n",
    "data['Category'] = 'Other'\n",
    "data.loc[data['Similarity'] <= peer_threshold, 'Category'] = 'Peer'\n",
    "data.loc[data['Similarity'] > below_threshold, 'Category'] = 'Above'\n",
    "\n",
    "# Separate institutions into the three groups\n",
    "peer_institutions = data[data['Category'] == 'Peer']\n",
    "below_institutions = data[data['Category'] == 'Other']  # Corrected from 'Below'\n",
    "above_institutions = data[data['Category'] == 'Above']"
   ]
  },
  {
   "cell_type": "code",
   "execution_count": null,
   "id": "4fbf4e97",
   "metadata": {},
   "outputs": [],
   "source": []
  }
 ],
 "metadata": {
  "kernelspec": {
   "display_name": "Python 3 (ipykernel)",
   "language": "python",
   "name": "python3"
  },
  "language_info": {
   "codemirror_mode": {
    "name": "ipython",
    "version": 3
   },
   "file_extension": ".py",
   "mimetype": "text/x-python",
   "name": "python",
   "nbconvert_exporter": "python",
   "pygments_lexer": "ipython3",
   "version": "3.9.12"
  }
 },
 "nbformat": 4,
 "nbformat_minor": 5
}
